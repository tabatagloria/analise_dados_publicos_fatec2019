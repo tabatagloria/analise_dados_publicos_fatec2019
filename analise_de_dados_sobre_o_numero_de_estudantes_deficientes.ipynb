{
  "nbformat": 4,
  "nbformat_minor": 0,
  "metadata": {
    "colab": {
      "name": "analise de dados sobre o numero de estudantes deficientes.ipynb",
      "provenance": [],
      "collapsed_sections": []
    },
    "kernelspec": {
      "name": "python3",
      "display_name": "Python 3"
    },
    "accelerator": "GPU"
  },
  "cells": [
    {
      "cell_type": "code",
      "metadata": {
        "id": "lNoqaKtVl8qx",
        "colab_type": "code",
        "outputId": "4215a2ee-2da8-446d-d438-ca5271bd0c15",
        "colab": {
          "base_uri": "https://localhost:8080/",
          "height": 125
        }
      },
      "source": [
        "from google.colab import drive\n",
        "import os\n",
        "\n",
        "drive.mount('/content/gdrive')\n",
        "os.chdir(\"/content/gdrive/My Drive/Colab Notebooks\")"
      ],
      "execution_count": 1,
      "outputs": [
        {
          "output_type": "stream",
          "text": [
            "Go to this URL in a browser: https://accounts.google.com/o/oauth2/auth?client_id=947318989803-6bn6qk8qdgf4n4g3pfee6491hc0brc4i.apps.googleusercontent.com&redirect_uri=urn%3aietf%3awg%3aoauth%3a2.0%3aoob&response_type=code&scope=email%20https%3a%2f%2fwww.googleapis.com%2fauth%2fdocs.test%20https%3a%2f%2fwww.googleapis.com%2fauth%2fdrive%20https%3a%2f%2fwww.googleapis.com%2fauth%2fdrive.photos.readonly%20https%3a%2f%2fwww.googleapis.com%2fauth%2fpeopleapi.readonly\n",
            "\n",
            "Enter your authorization code:\n",
            "··········\n",
            "Mounted at /content/gdrive\n"
          ],
          "name": "stdout"
        }
      ]
    },
    {
      "cell_type": "code",
      "metadata": {
        "id": "Rpsq0-NgfGsE",
        "colab_type": "code",
        "colab": {}
      },
      "source": [
        "import pandas as pd\n",
        "import numpy as np\n",
        "import matplotlib.pyplot as plt\n",
        "\n",
        "low_memory=False\n",
        "pd.options.display.max_columns = 80\n",
        "pd.options.display.max_rows = 90"
      ],
      "execution_count": 0,
      "outputs": []
    },
    {
      "cell_type": "code",
      "metadata": {
        "id": "JB_SASbqWv3E",
        "colab_type": "code",
        "colab": {}
      },
      "source": [
        "data = pd.read_csv(r'DM_ALUNO.CSV', delimiter='|', encoding='iso-8859-1', usecols=['ID_ALUNO','TP_SEXO','IN_DEFICIENCIA','NU_IDADE','NU_ANO_INGRESSO'])"
      ],
      "execution_count": 0,
      "outputs": []
    },
    {
      "cell_type": "code",
      "metadata": {
        "id": "mI-Ocw5Th2x-",
        "colab_type": "code",
        "colab": {}
      },
      "source": [
        "'''\n",
        "  Análise do total de pessoas que possuam alguma deficiência\n",
        "'''"
      ],
      "execution_count": 0,
      "outputs": []
    },
    {
      "cell_type": "code",
      "metadata": {
        "id": "iAFrx4mVtQth",
        "colab_type": "code",
        "colab": {
          "base_uri": "https://localhost:8080/",
          "height": 34
        },
        "outputId": "ede7d3db-c1cc-4436-8f33-ef05422d99cd"
      },
      "source": [
        "data.shape"
      ],
      "execution_count": 156,
      "outputs": [
        {
          "output_type": "execute_result",
          "data": {
            "text/plain": [
              "(12043993, 5)"
            ]
          },
          "metadata": {
            "tags": []
          },
          "execution_count": 156
        }
      ]
    },
    {
      "cell_type": "code",
      "metadata": {
        "id": "CgIJc9JQspi_",
        "colab_type": "code",
        "colab": {
          "base_uri": "https://localhost:8080/",
          "height": 347
        },
        "outputId": "146831ea-15d0-4872-c379-0ea3a7c55e63"
      },
      "source": [
        "data.rename(columns={'ID_ALUNO':'Id','TP_SEXO':'Sexo','NU_IDADE':'Idade','IN_DEFICIENCIA':'Possui_Deficiencia'},inplace=True)\n",
        "data.sample(10)"
      ],
      "execution_count": 157,
      "outputs": [
        {
          "output_type": "execute_result",
          "data": {
            "text/html": [
              "<div>\n",
              "<style scoped>\n",
              "    .dataframe tbody tr th:only-of-type {\n",
              "        vertical-align: middle;\n",
              "    }\n",
              "\n",
              "    .dataframe tbody tr th {\n",
              "        vertical-align: top;\n",
              "    }\n",
              "\n",
              "    .dataframe thead th {\n",
              "        text-align: right;\n",
              "    }\n",
              "</style>\n",
              "<table border=\"1\" class=\"dataframe\">\n",
              "  <thead>\n",
              "    <tr style=\"text-align: right;\">\n",
              "      <th></th>\n",
              "      <th>Id</th>\n",
              "      <th>Sexo</th>\n",
              "      <th>Idade</th>\n",
              "      <th>Possui_Deficiencia</th>\n",
              "      <th>NU_ANO_INGRESSO</th>\n",
              "    </tr>\n",
              "  </thead>\n",
              "  <tbody>\n",
              "    <tr>\n",
              "      <th>4823239</th>\n",
              "      <td>C031041AB8D75101CF845C8CC996FA4B</td>\n",
              "      <td>1</td>\n",
              "      <td>25</td>\n",
              "      <td>0</td>\n",
              "      <td>2017</td>\n",
              "    </tr>\n",
              "    <tr>\n",
              "      <th>10998014</th>\n",
              "      <td>14723524A2741E4BE4DFC866D1664E7E</td>\n",
              "      <td>2</td>\n",
              "      <td>35</td>\n",
              "      <td>0</td>\n",
              "      <td>2018</td>\n",
              "    </tr>\n",
              "    <tr>\n",
              "      <th>9495819</th>\n",
              "      <td>05DA17E6D15363EC5B707B6F753CED5A</td>\n",
              "      <td>1</td>\n",
              "      <td>23</td>\n",
              "      <td>0</td>\n",
              "      <td>2017</td>\n",
              "    </tr>\n",
              "    <tr>\n",
              "      <th>9956379</th>\n",
              "      <td>B76F79001E1B721EC65F124F3538A967</td>\n",
              "      <td>1</td>\n",
              "      <td>20</td>\n",
              "      <td>0</td>\n",
              "      <td>2018</td>\n",
              "    </tr>\n",
              "    <tr>\n",
              "      <th>7883365</th>\n",
              "      <td>E650F9DD673B1306143FF3C5BB87F03D</td>\n",
              "      <td>2</td>\n",
              "      <td>46</td>\n",
              "      <td>0</td>\n",
              "      <td>2008</td>\n",
              "    </tr>\n",
              "    <tr>\n",
              "      <th>11104328</th>\n",
              "      <td>C760992F3A1A7CFD270E772A43F4AB48</td>\n",
              "      <td>2</td>\n",
              "      <td>19</td>\n",
              "      <td>0</td>\n",
              "      <td>2018</td>\n",
              "    </tr>\n",
              "    <tr>\n",
              "      <th>4708906</th>\n",
              "      <td>F6CDA08671E96B51D2EA8CC799E98063</td>\n",
              "      <td>1</td>\n",
              "      <td>18</td>\n",
              "      <td>0</td>\n",
              "      <td>2017</td>\n",
              "    </tr>\n",
              "    <tr>\n",
              "      <th>10288336</th>\n",
              "      <td>0D9ECFDFFDA7FDABECA9ED8879056C19</td>\n",
              "      <td>1</td>\n",
              "      <td>29</td>\n",
              "      <td>0</td>\n",
              "      <td>2012</td>\n",
              "    </tr>\n",
              "    <tr>\n",
              "      <th>3030463</th>\n",
              "      <td>A7E4E33841524F8C7E9EDD455B96A536</td>\n",
              "      <td>1</td>\n",
              "      <td>21</td>\n",
              "      <td>0</td>\n",
              "      <td>2018</td>\n",
              "    </tr>\n",
              "    <tr>\n",
              "      <th>1756846</th>\n",
              "      <td>F3BE46389FBB67E87D9DEC81444318D0</td>\n",
              "      <td>2</td>\n",
              "      <td>19</td>\n",
              "      <td>0</td>\n",
              "      <td>2018</td>\n",
              "    </tr>\n",
              "  </tbody>\n",
              "</table>\n",
              "</div>"
            ],
            "text/plain": [
              "                                        Id  Sexo  Idade  Possui_Deficiencia  \\\n",
              "4823239   C031041AB8D75101CF845C8CC996FA4B     1     25                   0   \n",
              "10998014  14723524A2741E4BE4DFC866D1664E7E     2     35                   0   \n",
              "9495819   05DA17E6D15363EC5B707B6F753CED5A     1     23                   0   \n",
              "9956379   B76F79001E1B721EC65F124F3538A967     1     20                   0   \n",
              "7883365   E650F9DD673B1306143FF3C5BB87F03D     2     46                   0   \n",
              "11104328  C760992F3A1A7CFD270E772A43F4AB48     2     19                   0   \n",
              "4708906   F6CDA08671E96B51D2EA8CC799E98063     1     18                   0   \n",
              "10288336  0D9ECFDFFDA7FDABECA9ED8879056C19     1     29                   0   \n",
              "3030463   A7E4E33841524F8C7E9EDD455B96A536     1     21                   0   \n",
              "1756846   F3BE46389FBB67E87D9DEC81444318D0     2     19                   0   \n",
              "\n",
              "          NU_ANO_INGRESSO  \n",
              "4823239              2017  \n",
              "10998014             2018  \n",
              "9495819              2017  \n",
              "9956379              2018  \n",
              "7883365              2008  \n",
              "11104328             2018  \n",
              "4708906              2017  \n",
              "10288336             2012  \n",
              "3030463              2018  \n",
              "1756846              2018  "
            ]
          },
          "metadata": {
            "tags": []
          },
          "execution_count": 157
        }
      ]
    },
    {
      "cell_type": "code",
      "metadata": {
        "id": "r2GA3Dnasnro",
        "colab_type": "code",
        "colab": {
          "base_uri": "https://localhost:8080/",
          "height": 282
        },
        "outputId": "ea681fe2-721e-4d95-8a53-dfffd0429811"
      },
      "source": [
        "data.groupby('Sexo').size().sort_values().plot(kind='barh')"
      ],
      "execution_count": 158,
      "outputs": [
        {
          "output_type": "execute_result",
          "data": {
            "text/plain": [
              "<matplotlib.axes._subplots.AxesSubplot at 0x7f1407623278>"
            ]
          },
          "metadata": {
            "tags": []
          },
          "execution_count": 158
        },
        {
          "output_type": "display_data",
          "data": {
            "image/png": "[encoded data removed]",
            "text/plain": [
              "<Figure size 432x288 with 1 Axes>"
            ]
          },
          "metadata": {
            "tags": []
          }
        }
      ]
    },
    {
      "cell_type": "code",
      "metadata": {
        "id": "ffGJEeubhbZn",
        "colab_type": "code",
        "colab": {
          "base_uri": "https://localhost:8080/",
          "height": 34
        },
        "outputId": "cd1281cc-c683-47a2-dbb6-357f2b4c761f"
      },
      "source": [
        "total = data.query('Possui_Deficiencia == 1')['Id'].count()\n",
        "f'Quantidade de pessoas com algum tipo de dificiência: {total}'"
      ],
      "execution_count": 159,
      "outputs": [
        {
          "output_type": "execute_result",
          "data": {
            "text/plain": [
              "'Quantidade de pessoas com algum tipo de dificiência: 59496'"
            ]
          },
          "metadata": {
            "tags": []
          },
          "execution_count": 159
        }
      ]
    },
    {
      "cell_type": "code",
      "metadata": {
        "id": "STCoHfMbUk7Y",
        "colab_type": "code",
        "colab": {
          "base_uri": "https://localhost:8080/",
          "height": 34
        },
        "outputId": "78040699-1992-4718-bd0a-5d96c260d253"
      },
      "source": [
        "mulheres = data.query('Possui_Deficiencia == 1 and Sexo == 1')['Id'].count()\n",
        "f'Quantidade de mulheres com algum tipo de dificiência: {mulheres}'"
      ],
      "execution_count": 160,
      "outputs": [
        {
          "output_type": "execute_result",
          "data": {
            "text/plain": [
              "'Quantidade de mulheres com algum tipo de dificiência: 28227'"
            ]
          },
          "metadata": {
            "tags": []
          },
          "execution_count": 160
        }
      ]
    },
    {
      "cell_type": "code",
      "metadata": {
        "id": "J_ZUwa3xmDJw",
        "colab_type": "code",
        "colab": {
          "base_uri": "https://localhost:8080/",
          "height": 34
        },
        "outputId": "ff9a71d2-8745-4f30-b0eb-d9efb74822a2"
      },
      "source": [
        "f'Porcentagem de mulheres: {mulheres / total * 100:.2f}%'"
      ],
      "execution_count": 161,
      "outputs": [
        {
          "output_type": "execute_result",
          "data": {
            "text/plain": [
              "'Porcentagem de mulheres: 47.44%'"
            ]
          },
          "metadata": {
            "tags": []
          },
          "execution_count": 161
        }
      ]
    },
    {
      "cell_type": "code",
      "metadata": {
        "id": "zp5XlbGMg7Au",
        "colab_type": "code",
        "colab": {
          "base_uri": "https://localhost:8080/",
          "height": 34
        },
        "outputId": "c8e21dab-ad81-4456-94af-777d3e3372c7"
      },
      "source": [
        "homens = data.query('Possui_Deficiencia == 1 and Sexo == 2')['Id'].count()\n",
        "f'Quantidade de homens com algum tipo de dificiência: {homens}'"
      ],
      "execution_count": 162,
      "outputs": [
        {
          "output_type": "execute_result",
          "data": {
            "text/plain": [
              "'Quantidade de homens com algum tipo de dificiência: 31269'"
            ]
          },
          "metadata": {
            "tags": []
          },
          "execution_count": 162
        }
      ]
    },
    {
      "cell_type": "code",
      "metadata": {
        "id": "8ROKtI62mGEe",
        "colab_type": "code",
        "colab": {
          "base_uri": "https://localhost:8080/",
          "height": 34
        },
        "outputId": "9c676872-b5f1-4869-a565-45d44ff2dbe5"
      },
      "source": [
        "f'Porcentagem de homens: {homens / total * 100:.2f}%'"
      ],
      "execution_count": 163,
      "outputs": [
        {
          "output_type": "execute_result",
          "data": {
            "text/plain": [
              "'Porcentagem de homens: 52.56%'"
            ]
          },
          "metadata": {
            "tags": []
          },
          "execution_count": 163
        }
      ]
    },
    {
      "cell_type": "code",
      "metadata": {
        "id": "hiLVsMzYl71l",
        "colab_type": "code",
        "colab": {
          "base_uri": "https://localhost:8080/",
          "height": 34
        },
        "outputId": "b2cfc0a0-8982-45d0-b061-44e592402dea"
      },
      "source": [
        "''' Faixa etária de 18 anos ''' \n",
        "\n",
        "mulheres = data.query('Possui_Deficiencia == 1 and Sexo == 1 and Idade == 18')['Id'].count()\n",
        "f'Quantidade de mulheres: {mulheres}'"
      ],
      "execution_count": 164,
      "outputs": [
        {
          "output_type": "execute_result",
          "data": {
            "text/plain": [
              "'Quantidade de mulheres: 759'"
            ]
          },
          "metadata": {
            "tags": []
          },
          "execution_count": 164
        }
      ]
    },
    {
      "cell_type": "code",
      "metadata": {
        "id": "GRBBjsOLofum",
        "colab_type": "code",
        "colab": {
          "base_uri": "https://localhost:8080/",
          "height": 34
        },
        "outputId": "9c0c6b03-22c2-45d7-8f9e-27c572c22492"
      },
      "source": [
        "homens = data.query('Possui_Deficiencia == 1 and Sexo == 2 and Idade == 18')['Id'].count()\n",
        "f'Quantidade de mulheres: {homens}'"
      ],
      "execution_count": 165,
      "outputs": [
        {
          "output_type": "execute_result",
          "data": {
            "text/plain": [
              "'Quantidade de mulheres: 729'"
            ]
          },
          "metadata": {
            "tags": []
          },
          "execution_count": 165
        }
      ]
    },
    {
      "cell_type": "code",
      "metadata": {
        "id": "W5yXfSU6oypL",
        "colab_type": "code",
        "colab": {
          "base_uri": "https://localhost:8080/",
          "height": 34
        },
        "outputId": "bd16020a-1942-408c-d3dd-0e40ef13ceca"
      },
      "source": [
        "total = data.query('Possui_Deficiencia == 1 and Idade == 18')['Id'].count()\n",
        "f'Quantidade de mulheres: {total}'"
      ],
      "execution_count": 166,
      "outputs": [
        {
          "output_type": "execute_result",
          "data": {
            "text/plain": [
              "'Quantidade de mulheres: 1488'"
            ]
          },
          "metadata": {
            "tags": []
          },
          "execution_count": 166
        }
      ]
    },
    {
      "cell_type": "code",
      "metadata": {
        "id": "CmMkUhJ2iGRA",
        "colab_type": "code",
        "colab": {}
      },
      "source": [
        "'''\n",
        "  Análise anual: 2016, 2017, 2018\n",
        "'''"
      ],
      "execution_count": 0,
      "outputs": []
    },
    {
      "cell_type": "code",
      "metadata": {
        "id": "YiyJq3qTuCq-",
        "colab_type": "code",
        "colab": {
          "base_uri": "https://localhost:8080/",
          "height": 34
        },
        "outputId": "15ed3b65-13c5-4fa8-8a62-a003978dc42a"
      },
      "source": [
        "ano_2016 = data.query('NU_ANO_INGRESSO == 2016')['Id'].count()\n",
        "f'Quantidade: {ano_2016}'"
      ],
      "execution_count": 167,
      "outputs": [
        {
          "output_type": "execute_result",
          "data": {
            "text/plain": [
              "'Quantidade: 1951756'"
            ]
          },
          "metadata": {
            "tags": []
          },
          "execution_count": 167
        }
      ]
    },
    {
      "cell_type": "code",
      "metadata": {
        "id": "N_6ISMpG5NNj",
        "colab_type": "code",
        "colab": {
          "base_uri": "https://localhost:8080/",
          "height": 34
        },
        "outputId": "6dd67ecc-0674-4ff2-ff6c-a3f270a707db"
      },
      "source": [
        "total = data.query('Possui_Deficiencia == 1 and NU_ANO_INGRESSO == 2016')['Id'].count()\n",
        "f'Quantidade de pessoas com algum tipo de dificiência: {total}'"
      ],
      "execution_count": 168,
      "outputs": [
        {
          "output_type": "execute_result",
          "data": {
            "text/plain": [
              "'Quantidade de pessoas com algum tipo de dificiência: 9437'"
            ]
          },
          "metadata": {
            "tags": []
          },
          "execution_count": 168
        }
      ]
    },
    {
      "cell_type": "code",
      "metadata": {
        "id": "W-G1KmeS4Q9K",
        "colab_type": "code",
        "colab": {
          "base_uri": "https://localhost:8080/",
          "height": 34
        },
        "outputId": "c52f4651-60b6-4e5e-c5cb-d0d462e1745c"
      },
      "source": [
        "mulheres = data.query('Possui_Deficiencia == 1 and Sexo == 1 and NU_ANO_INGRESSO == 2016')['Id'].count()\n",
        "f'Quantidade de mulheres com algum tipo de dificiência no ano de 2016: {mulheres}'"
      ],
      "execution_count": 169,
      "outputs": [
        {
          "output_type": "execute_result",
          "data": {
            "text/plain": [
              "'Quantidade de mulheres com algum tipo de dificiência no ano de 2016: 4537'"
            ]
          },
          "metadata": {
            "tags": []
          },
          "execution_count": 169
        }
      ]
    },
    {
      "cell_type": "code",
      "metadata": {
        "id": "yW3t7d-C5QQQ",
        "colab_type": "code",
        "colab": {
          "base_uri": "https://localhost:8080/",
          "height": 34
        },
        "outputId": "57cd784b-5b03-48ac-f146-f84da0aa4bb9"
      },
      "source": [
        "homens = data.query('Possui_Deficiencia == 1 and Sexo == 2 and NU_ANO_INGRESSO == 2016')['Id'].count()\n",
        "f'Quantidade de mulheres com algum tipo de dificiência no ano de 2016: {homens}'"
      ],
      "execution_count": 170,
      "outputs": [
        {
          "output_type": "execute_result",
          "data": {
            "text/plain": [
              "'Quantidade de mulheres com algum tipo de dificiência no ano de 2016: 4900'"
            ]
          },
          "metadata": {
            "tags": []
          },
          "execution_count": 170
        }
      ]
    },
    {
      "cell_type": "code",
      "metadata": {
        "id": "nJK7wmIU6V3G",
        "colab_type": "code",
        "colab": {
          "base_uri": "https://localhost:8080/",
          "height": 34
        },
        "outputId": "8b1b13d1-428c-4fa6-9c81-5fe8bc2fcbaa"
      },
      "source": [
        "f'Porcentagem de mulheres: {mulheres / total * 100:.2f}%, Porcentagem de homens: {homens / total * 100:.2f}%'"
      ],
      "execution_count": 171,
      "outputs": [
        {
          "output_type": "execute_result",
          "data": {
            "text/plain": [
              "'Porcentagem de mulheres: 48.08%, Porcentagem de homens: 51.92%'"
            ]
          },
          "metadata": {
            "tags": []
          },
          "execution_count": 171
        }
      ]
    },
    {
      "cell_type": "code",
      "metadata": {
        "id": "fI6lxmSo7izf",
        "colab_type": "code",
        "colab": {
          "base_uri": "https://localhost:8080/",
          "height": 334
        },
        "outputId": "0016398d-e469-4fe2-e8af-2f562d6471d8"
      },
      "source": [
        "%matplotlib inline\n",
        "\n",
        "f2016 = [mulheres]\n",
        "m2016 = [homens]\n",
        "\n",
        "barWidth = 0.25\n",
        "\n",
        "plt.figure(figsize=(10,5))\n",
        "\n",
        "r1 = np.arange(len(f2016))\n",
        "r2 = [x + barWidth for x in r1]\n",
        "\n",
        "plt.bar(r1, f2016, color=\"#ff94ab\", width=barWidth, label=\"Feminino\")\n",
        "plt.bar(r2, m2016, color=\"#38b0de\", width=barWidth, label=\"Masculino\")\n",
        "\n",
        "plt.xlabel('Sexo')\n",
        "plt.ylabel('Quantidade')\n",
        "plt.xticks([r + barWidth for r in range(len(f2016))], ['2016'])\n",
        "\n",
        "plt.legend()\n",
        "plt.savefig('histograma-2016.png')\n",
        "plt.show()\n",
        "plt.close()\n"
      ],
      "execution_count": 172,
      "outputs": [
        {
          "output_type": "display_data",
          "data": {
            "image/png": "[encoded data removed]",
            "text/plain": [
              "<Figure size 720x360 with 1 Axes>"
            ]
          },
          "metadata": {
            "tags": []
          }
        }
      ]
    },
    {
      "cell_type": "code",
      "metadata": {
        "id": "-BzE3UP75XgA",
        "colab_type": "code",
        "colab": {}
      },
      "source": [
        ""
      ],
      "execution_count": 0,
      "outputs": []
    },
    {
      "cell_type": "code",
      "metadata": {
        "id": "LdcTsMhguCbl",
        "colab_type": "code",
        "colab": {
          "base_uri": "https://localhost:8080/",
          "height": 34
        },
        "outputId": "760f2ef5-f068-4c6c-8f1a-61dfbf9126b6"
      },
      "source": [
        "ano_2017 = data.query('NU_ANO_INGRESSO == 2017')['Id'].count()\n",
        "f'Quantidade: {ano_2017}'"
      ],
      "execution_count": 173,
      "outputs": [
        {
          "output_type": "execute_result",
          "data": {
            "text/plain": [
              "'Quantidade: 2760159'"
            ]
          },
          "metadata": {
            "tags": []
          },
          "execution_count": 173
        }
      ]
    },
    {
      "cell_type": "code",
      "metadata": {
        "id": "0sAofhqE5Y3L",
        "colab_type": "code",
        "colab": {
          "base_uri": "https://localhost:8080/",
          "height": 34
        },
        "outputId": "56eb799a-937c-4e0a-82af-83a95ecf3b3d"
      },
      "source": [
        "total = data.query('Possui_Deficiencia == 1 and NU_ANO_INGRESSO == 2017')['Id'].count()\n",
        "f'Quantidade de pessoas com algum tipo de dificiência: {total}'"
      ],
      "execution_count": 174,
      "outputs": [
        {
          "output_type": "execute_result",
          "data": {
            "text/plain": [
              "'Quantidade de pessoas com algum tipo de dificiência: 13728'"
            ]
          },
          "metadata": {
            "tags": []
          },
          "execution_count": 174
        }
      ]
    },
    {
      "cell_type": "code",
      "metadata": {
        "id": "cN9LYfYC5fJX",
        "colab_type": "code",
        "colab": {
          "base_uri": "https://localhost:8080/",
          "height": 34
        },
        "outputId": "c4d167b8-97b3-4045-96d8-491465255d48"
      },
      "source": [
        "mulheres = data.query('Possui_Deficiencia == 1 and Sexo == 1 and NU_ANO_INGRESSO == 2017')['Id'].count()\n",
        "f'Quantidade de mulheres com algum tipo de dificiência no ano de 2016: {mulheres}'"
      ],
      "execution_count": 175,
      "outputs": [
        {
          "output_type": "execute_result",
          "data": {
            "text/plain": [
              "'Quantidade de mulheres com algum tipo de dificiência no ano de 2016: 6389'"
            ]
          },
          "metadata": {
            "tags": []
          },
          "execution_count": 175
        }
      ]
    },
    {
      "cell_type": "code",
      "metadata": {
        "id": "n-qh5R7L5f2c",
        "colab_type": "code",
        "colab": {
          "base_uri": "https://localhost:8080/",
          "height": 34
        },
        "outputId": "fa8acf1a-0017-41a8-f03e-db7d50068f7c"
      },
      "source": [
        "homens = data.query('Possui_Deficiencia == 1 and Sexo == 2 and NU_ANO_INGRESSO == 2017')['Id'].count()\n",
        "f'Quantidade de mulheres com algum tipo de dificiência no ano de 2016: {homens}'"
      ],
      "execution_count": 176,
      "outputs": [
        {
          "output_type": "execute_result",
          "data": {
            "text/plain": [
              "'Quantidade de mulheres com algum tipo de dificiência no ano de 2016: 7339'"
            ]
          },
          "metadata": {
            "tags": []
          },
          "execution_count": 176
        }
      ]
    },
    {
      "cell_type": "code",
      "metadata": {
        "id": "E9XhmXK05e_L",
        "colab_type": "code",
        "colab": {
          "base_uri": "https://localhost:8080/",
          "height": 34
        },
        "outputId": "4487d89d-8495-4f21-8f6a-7444aa6c6be0"
      },
      "source": [
        "f'Porcentagem de mulheres: {mulheres / total * 100:.2f}%, Porcentagem de homens: {homens / total * 100:.2f}%'"
      ],
      "execution_count": 177,
      "outputs": [
        {
          "output_type": "execute_result",
          "data": {
            "text/plain": [
              "'Porcentagem de mulheres: 46.54%, Porcentagem de homens: 53.46%'"
            ]
          },
          "metadata": {
            "tags": []
          },
          "execution_count": 177
        }
      ]
    },
    {
      "cell_type": "code",
      "metadata": {
        "id": "gOjKSxx8G5i3",
        "colab_type": "code",
        "colab": {
          "base_uri": "https://localhost:8080/",
          "height": 334
        },
        "outputId": "faec4ffd-bc09-4683-d60a-87eecdcf5673"
      },
      "source": [
        "%matplotlib inline\n",
        "\n",
        "f2017 = [mulheres]\n",
        "m2017 = [homens]\n",
        "\n",
        "barWidth = 0.25\n",
        "\n",
        "plt.figure(figsize=(10,5))\n",
        "\n",
        "r1 = np.arange(len(f2017))\n",
        "r2 = [x + barWidth for x in r1]\n",
        "\n",
        "plt.bar(r1, f2017, color=\"#ff94ab\", width=barWidth, label=\"Feminino\")\n",
        "plt.bar(r2, m2017, color=\"#38b0de\", width=barWidth, label=\"Masculino\")\n",
        "\n",
        "plt.xlabel('Sexo')\n",
        "plt.ylabel('Quantidade')\n",
        "plt.xticks([r + barWidth for r in range(len(f2016))], ['2017'])\n",
        "\n",
        "plt.legend()\n",
        "plt.savefig('histograma-2017.png')\n",
        "plt.show()\n",
        "plt.close()"
      ],
      "execution_count": 178,
      "outputs": [
        {
          "output_type": "display_data",
          "data": {
            "image/png": "[encoded data removed]",
            "text/plain": [
              "<Figure size 720x360 with 1 Axes>"
            ]
          },
          "metadata": {
            "tags": []
          }
        }
      ]
    },
    {
      "cell_type": "code",
      "metadata": {
        "id": "6IrnoLB55-NV",
        "colab_type": "code",
        "colab": {}
      },
      "source": [
        ""
      ],
      "execution_count": 0,
      "outputs": []
    },
    {
      "cell_type": "code",
      "metadata": {
        "id": "y9jaUarutaec",
        "colab_type": "code",
        "colab": {
          "base_uri": "https://localhost:8080/",
          "height": 34
        },
        "outputId": "4a534eef-0257-4936-ef9f-68ead132f72c"
      },
      "source": [
        "ano_2018 = data.query('NU_ANO_INGRESSO == 2018')['Id'].count()\n",
        "f'Quantidade: {ano_2018}'"
      ],
      "execution_count": 179,
      "outputs": [
        {
          "output_type": "execute_result",
          "data": {
            "text/plain": [
              "'Quantidade: 3452617'"
            ]
          },
          "metadata": {
            "tags": []
          },
          "execution_count": 179
        }
      ]
    },
    {
      "cell_type": "code",
      "metadata": {
        "id": "nfKnG5x15tXB",
        "colab_type": "code",
        "colab": {
          "base_uri": "https://localhost:8080/",
          "height": 34
        },
        "outputId": "733fcf70-b87c-4005-f80d-5ba1fa89a3be"
      },
      "source": [
        "total = data.query('Possui_Deficiencia == 1 and NU_ANO_INGRESSO == 2018')['Id'].count()\n",
        "f'Quantidade de pessoas com algum tipo de dificiência: {total}'"
      ],
      "execution_count": 180,
      "outputs": [
        {
          "output_type": "execute_result",
          "data": {
            "text/plain": [
              "'Quantidade de pessoas com algum tipo de dificiência: 17768'"
            ]
          },
          "metadata": {
            "tags": []
          },
          "execution_count": 180
        }
      ]
    },
    {
      "cell_type": "code",
      "metadata": {
        "id": "4HHyi1Kj5s7r",
        "colab_type": "code",
        "colab": {
          "base_uri": "https://localhost:8080/",
          "height": 34
        },
        "outputId": "63dde2d1-8348-4f09-b525-dfa9ba6a8153"
      },
      "source": [
        "mulheres = data.query('Possui_Deficiencia == 1 and Sexo == 1 and NU_ANO_INGRESSO == 2018')['Id'].count()\n",
        "f'Quantidade de mulheres com algum tipo de dificiência no ano de 2016: {mulheres}'"
      ],
      "execution_count": 181,
      "outputs": [
        {
          "output_type": "execute_result",
          "data": {
            "text/plain": [
              "'Quantidade de mulheres com algum tipo de dificiência no ano de 2016: 8344'"
            ]
          },
          "metadata": {
            "tags": []
          },
          "execution_count": 181
        }
      ]
    },
    {
      "cell_type": "code",
      "metadata": {
        "id": "tIPgwRZY5sxf",
        "colab_type": "code",
        "colab": {
          "base_uri": "https://localhost:8080/",
          "height": 34
        },
        "outputId": "59df1cbc-4969-42ee-c674-b1bdf5393cad"
      },
      "source": [
        "homens = data.query('Possui_Deficiencia == 1 and Sexo == 2 and NU_ANO_INGRESSO == 2018')['Id'].count()\n",
        "f'Quantidade de mulheres com algum tipo de dificiência no ano de 2016: {homens}'"
      ],
      "execution_count": 182,
      "outputs": [
        {
          "output_type": "execute_result",
          "data": {
            "text/plain": [
              "'Quantidade de mulheres com algum tipo de dificiência no ano de 2016: 9424'"
            ]
          },
          "metadata": {
            "tags": []
          },
          "execution_count": 182
        }
      ]
    },
    {
      "cell_type": "code",
      "metadata": {
        "id": "ZcbfJp-X5snJ",
        "colab_type": "code",
        "colab": {
          "base_uri": "https://localhost:8080/",
          "height": 34
        },
        "outputId": "d56b6c25-d366-47c2-cb8c-f49ac95c1a68"
      },
      "source": [
        "f'Porcentagem de mulheres: {mulheres / total * 100:.2f}%, Porcentagem de homens: {homens / total * 100:.2f}%'"
      ],
      "execution_count": 183,
      "outputs": [
        {
          "output_type": "execute_result",
          "data": {
            "text/plain": [
              "'Porcentagem de mulheres: 46.96%, Porcentagem de homens: 53.04%'"
            ]
          },
          "metadata": {
            "tags": []
          },
          "execution_count": 183
        }
      ]
    },
    {
      "cell_type": "code",
      "metadata": {
        "id": "DY6ECArSG62E",
        "colab_type": "code",
        "colab": {
          "base_uri": "https://localhost:8080/",
          "height": 334
        },
        "outputId": "25d0acc1-4a93-48ce-9a80-1b4fda5c032c"
      },
      "source": [
        "%matplotlib inline\n",
        "\n",
        "f2018 = [mulheres]\n",
        "m2018 = [homens]\n",
        "\n",
        "barWidth = 0.25\n",
        "\n",
        "plt.figure(figsize=(10,5))\n",
        "\n",
        "r1 = np.arange(len(f2018))\n",
        "r2 = [x + barWidth for x in r1]\n",
        "\n",
        "plt.bar(r1, f2018, color=\"#ff94ab\", width=barWidth, label=\"Feminino\")\n",
        "plt.bar(r2, m2018, color=\"#38b0de\", width=barWidth, label=\"Masculino\")\n",
        "\n",
        "plt.xlabel('Sexo')\n",
        "plt.ylabel('Quantidade')\n",
        "plt.xticks([r + barWidth for r in range(len(f2018))], ['2018'])\n",
        "\n",
        "plt.legend()\n",
        "plt.savefig('histograma-2018.png')\n",
        "plt.show()\n",
        "plt.close()"
      ],
      "execution_count": 184,
      "outputs": [
        {
          "output_type": "display_data",
          "data": {
            "image/png": "[encoded data removed]",
            "text/plain": [
              "<Figure size 720x360 with 1 Axes>"
            ]
          },
          "metadata": {
            "tags": []
          }
        }
      ]
    },
    {
      "cell_type": "code",
      "metadata": {
        "id": "FW7TKFgr6QqB",
        "colab_type": "code",
        "colab": {}
      },
      "source": [
        ""
      ],
      "execution_count": 0,
      "outputs": []
    }
  ]
}