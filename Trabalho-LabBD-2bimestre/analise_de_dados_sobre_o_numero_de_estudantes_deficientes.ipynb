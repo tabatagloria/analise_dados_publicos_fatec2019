{
  "nbformat": 4,
  "nbformat_minor": 0,
  "metadata": {
    "colab": {
      "name": "analise de dados sobre o numero de estudantes deficientes.ipynb",
      "provenance": [],
      "collapsed_sections": []
    },
    "kernelspec": {
      "name": "python3",
      "display_name": "Python 3"
    },
    "accelerator": "GPU"
  },
  "cells": [
    {
      "cell_type": "code",
      "metadata": {
        "id": "lNoqaKtVl8qx",
        "colab_type": "code",
        "outputId": "2d36430e-229f-4e2f-b22b-b9651351cf19",
        "colab": {
          "base_uri": "https://localhost:8080/",
          "height": 122
        }
      },
      "source": [
        "from google.colab import drive\n",
        "\n",
        "drive.mount('/content/gdrive')\n",
        "os.chdir(\"/content/gdrive/My Drive/Colab Notebooks\")"
      ],
      "execution_count": 2,
      "outputs": [
        {
          "output_type": "stream",
          "text": [
            "Go to this URL in a browser: https://accounts.google.com/o/oauth2/auth?client_id=947318989803-6bn6qk8qdgf4n4g3pfee6491hc0brc4i.apps.googleusercontent.com&redirect_uri=urn%3aietf%3awg%3aoauth%3a2.0%3aoob&response_type=code&scope=email%20https%3a%2f%2fwww.googleapis.com%2fauth%2fdocs.test%20https%3a%2f%2fwww.googleapis.com%2fauth%2fdrive%20https%3a%2f%2fwww.googleapis.com%2fauth%2fdrive.photos.readonly%20https%3a%2f%2fwww.googleapis.com%2fauth%2fpeopleapi.readonly\n",
            "\n",
            "Enter your authorization code:\n",
            "··········\n",
            "Mounted at /content/gdrive\n"
          ],
          "name": "stdout"
        }
      ]
    },
    {
      "cell_type": "code",
      "metadata": {
        "id": "JB_SASbqWv3E",
        "colab_type": "code",
        "colab": {}
      },
      "source": [
        "import pandas as pd\n",
        "import matplotlib.pyplot as plt\n",
        "\n",
        "data = pd.read_csv(r'DM_ALUNO.CSV', chunksize=1000000, delimiter='|', encoding='iso-8859-1', usecols=['ID_ALUNO','TP_SEXO','IN_DEFICIENCIA','NU_IDADE'])"
      ],
      "execution_count": 0,
      "outputs": []
    },
    {
      "cell_type": "code",
      "metadata": {
        "id": "STCoHfMbUk7Y",
        "colab_type": "code",
        "colab": {}
      },
      "source": [
        "\n",
        "male_tpsx   = []\n",
        "female_tpsx = []\n",
        "\n",
        "for d in data:\n",
        "   male_tpsx.append(d.TP_SEXO.value_counts().values[1])\n",
        "   female_tpsx.append(d.TP_SEXO.value_counts().values[0])\n"
      ],
      "execution_count": 0,
      "outputs": []
    },
    {
      "cell_type": "code",
      "metadata": {
        "id": "zkYTQcdAhv8k",
        "colab_type": "code",
        "colab": {
          "base_uri": "https://localhost:8080/",
          "height": 318
        },
        "outputId": "752887a3-6505-45a7-b013-88d1a8e7a57e"
      },
      "source": [
        "%matplotlib inline\n",
        "\n",
        "bins = [0,10,20,30,40,50,60,70,80,90,100]\n",
        "\n",
        "plt.hist(male_tpsx)\n",
        "plt.hist(female_tpsx)\n",
        "plt.title('Quantidade de estudantes deficientes')\n",
        "plt.xlabel('Quantidade')\n",
        "plt.ylabel('Nâo Possui deficiência')\n",
        "plt.xticks()\n",
        "plt.legend([\"Homem\", \"Mulher\"])\n",
        "plt.show"
      ],
      "execution_count": 132,
      "outputs": [
        {
          "output_type": "execute_result",
          "data": {
            "text/plain": [
              "<function matplotlib.pyplot.show>"
            ]
          },
          "metadata": {
            "tags": []
          },
          "execution_count": 132
        },
        {
          "output_type": "display_data",
          "data": {
            "image/png": "[encoded data removed]",
            "text/plain": [
              "<Figure size 432x288 with 1 Axes>"
            ]
          },
          "metadata": {
            "tags": []
          }
        }
      ]
    },
    {
      "cell_type": "code",
      "metadata": {
        "id": "fmOit2paU__1",
        "colab_type": "code",
        "colab": {}
      },
      "source": [
        "male_def    = []\n",
        "male_ndef   = []\n",
        "male_nif    = []\n",
        "\n",
        "\n",
        "for i in data:\n",
        "    male_ndef.append(i.IN_DEFICIENCIA.value_counts().values[0])\n",
        "    male_def.append(i.IN_DEFICIENCIA.value_counts().values[1])\n",
        "    male_nif.append(i.IN_DEFICIENCIA.value_counts().values[2])\n"
      ],
      "execution_count": 0,
      "outputs": []
    },
    {
      "cell_type": "code",
      "metadata": {
        "id": "7kCfx51iVrHL",
        "colab_type": "code",
        "colab": {}
      },
      "source": [
        "female_def  = []\n",
        "female_ndef = []\n",
        "female_nif  = []\n",
        "\n",
        "for a in data:\n",
        "    female_ndef.append(a.IN_DEFICIENCIA.value_counts().values[0])\n",
        "    female_def.append(a.IN_DEFICIENCIA.value_counts().values[1])\n",
        "    female_nif.append(a.IN_DEFICIENCIA.value_counts().values[2])"
      ],
      "execution_count": 0,
      "outputs": []
    },
    {
      "cell_type": "code",
      "metadata": {
        "id": "wGgwkxlt4mRV",
        "colab_type": "code",
        "colab": {
          "base_uri": "https://localhost:8080/",
          "height": 318
        },
        "outputId": "04a7abee-2c0d-419e-8f2a-e60869999387"
      },
      "source": [
        "%matplotlib inline\n",
        "\n",
        "bins = [0,10,20,30,40,50,60,70,80,90,100]\n",
        "\n",
        "plt.hist(female_ndef)\n",
        "plt.hist(female_def)\n",
        "plt.hist(female_nif)\n",
        "plt.title('Quantidade de estudantes deficientes')\n",
        "plt.xlabel('Quantidade')\n",
        "plt.ylabel('Nâo Possui deficiência')\n",
        "plt.xticks()\n",
        "plt.legend([\"Não possui\", \"Possui\", \"Não informado\"])\n",
        "plt.show"
      ],
      "execution_count": 143,
      "outputs": [
        {
          "output_type": "execute_result",
          "data": {
            "text/plain": [
              "<function matplotlib.pyplot.show>"
            ]
          },
          "metadata": {
            "tags": []
          },
          "execution_count": 143
        },
        {
          "output_type": "display_data",
          "data": {
            "image/png": "[encoded data removed]",
            "text/plain": [
              "<Figure size 432x288 with 1 Axes>"
            ]
          },
          "metadata": {
            "tags": []
          }
        }
      ]
    },
    {
      "cell_type": "code",
      "metadata": {
        "id": "NgrhIgymhNo9",
        "colab_type": "code",
        "colab": {
          "base_uri": "https://localhost:8080/",
          "height": 318
        },
        "outputId": "949a6d26-6b3c-492b-be71-30557784058e"
      },
      "source": [
        "plt.hist(male_ndef)\n",
        "plt.hist(male_def)\n",
        "plt.hist(male_nif)\n",
        "plt.title('Quantidade de estudantes deficientes')\n",
        "plt.xlabel('Quantidade')\n",
        "plt.ylabel('Nâo Possui deficiência')\n",
        "plt.xticks()\n",
        "plt.legend([\"Não possui\", \"Possui\", \"Não informado\"])\n",
        "plt.show"
      ],
      "execution_count": 140,
      "outputs": [
        {
          "output_type": "execute_result",
          "data": {
            "text/plain": [
              "<function matplotlib.pyplot.show>"
            ]
          },
          "metadata": {
            "tags": []
          },
          "execution_count": 140
        },
        {
          "output_type": "display_data",
          "data": {
            "image/png": "[encoded data removed]",
            "text/plain": [
              "<Figure size 432x288 with 1 Axes>"
            ]
          },
          "metadata": {
            "tags": []
          }
        }
      ]
    }
  ]
}